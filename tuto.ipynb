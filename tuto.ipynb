{
 "cells": [
  {
   "cell_type": "code",
   "execution_count": null,
   "metadata": {},
   "outputs": [],
   "source": [
    "import numpy as np"
   ]
  },
  {
   "cell_type": "code",
   "execution_count": null,
   "metadata": {},
   "outputs": [],
   "source": [
    "#Cómo crear una matriz 1D\n",
    "print(np.arange(10))"
   ]
  },
  {
   "cell_type": "code",
   "execution_count": null,
   "metadata": {},
   "outputs": [],
   "source": [
    "# La función Python NumPy arange()se usa para crear una matriz con valores espaciados\n",
    "# uniformemente dentro de un intervalo dado. Esta función toma cuatro \n",
    "# parámetros start, stop, step, dtype.\n",
    "print(np.arange(3, 22, 4))\n",
    "print(np.arange(start=2, stop=22, step=3))"
   ]
  },
  {
   "cell_type": "code",
   "execution_count": null,
   "metadata": {},
   "outputs": [],
   "source": [
    "\"\"\"\n",
    "numpy.full(shape, fill_value, dtype=None, order='C', *, like=None)\n",
    "shape– Define la forma de la matriz que es un entero o secuencia de enteros. La forma de la nueva matriz, por ejemplo, (4, 3) o 2.\n",
    "fill_value – Valor para completar la matriz.\n",
    "dtype– Es un parámetro opcional que especifica el tipo de datos de la matriz devuelta.\n",
    "order– {'C', 'F'}, opcional: Para almacenar datos multidimensionales en orden/patrón de fila principal (C) o columna principal (F) en la ubicación de la memoria.\n",
    "like– el valor debe ser similar a una matriz, opcional\n",
    "\"\"\"\n",
    "\n",
    "#Cómo crear una matriz booleana\n",
    "print(np.full((3, 3), True, dtype=bool))\n",
    "#Cómo crear una matriz \n",
    "print(np.full((4, 3), 7))\n",
    "print(np.full(6,4))\n",
    "print(np.full((4,3),'2',dtype=str))\n",
    "print(np.full((3,4),'3.2',dtype=float))"
   ]
  },
  {
   "cell_type": "code",
   "execution_count": null,
   "metadata": {},
   "outputs": [],
   "source": [
    "#Cómo extraer elementos que satisfacen una condición dada de la matriz 1D\n",
    "\n",
    "arr = np.array([0, 1, 2, 3, 4, 5, 6, 7, 8, 9])\n",
    "#Extraiga todos los números impares\n",
    "print([arr % 2 == 1])\n",
    "print(arr[arr % 2 == 1])\n",
    "#Extraiga todos los números impares\n",
    "print(arr[arr % 2 == 0])\n",
    "\n",
    "#Cómo reemplazar elementos que satisfacen una condición con otro valor en una matriz numpy\n",
    "# Extrae el dato desde el primero hasta el final: por ejemplo\n",
    "# y va asignando los nuevos valores\n",
    "arr[arr % 2 == 1] = -1\n",
    "arr\n"
   ]
  },
  {
   "cell_type": "code",
   "execution_count": null,
   "metadata": {},
   "outputs": [],
   "source": [
    "# La función Python NumPy where() se usa para devolver los índices de los elementos \n",
    "# en una matriz de entrada donde se cumple la condición dada.\n",
    "#numpy.where(condition, [x, y, ])\n",
    "\"\"\"\n",
    "    condition-Cuando es verdadero, produce x, de lo contrario, produce y.\n",
    "    \n",
    "    x,y: Valores entre los que elegir. x, y, y la condición deben poder \n",
    "    transmitirse a alguna forma.\n",
    "\"\"\"\n",
    "arr = np.arange(10)\n",
    "print(np.where(arr > 7))\n",
    "print(np.where(arr > 7, 1, 3))\n",
    "print(np.where(arr > 7, 5, arr))\n",
    "print(np.where((arr > 3) & (arr < 8), -2, 150))"
   ]
  },
  {
   "cell_type": "code",
   "execution_count": null,
   "metadata": {},
   "outputs": [],
   "source": [
    "#Cómo reemplazar elementos que satisfacen una condición sin afectar la matriz original\n",
    "arr = np.arange(10) # Crea array del o al 9\n",
    "out = np.where(arr % 2 == 1, -1, arr)\n",
    "print(arr) #> [0 1 2 3 4 5 6 7 8 9]\n",
    "print(out)"
   ]
  },
  {
   "cell_type": "code",
   "execution_count": null,
   "metadata": {},
   "outputs": [],
   "source": [
    "# El método de matriz Python NumPy reshape()se usa para cambiar la \n",
    "# forma de la matriz NumPy sin cambiar sus datos.\n",
    "\n",
    "    #numpy.reshape(array, newshape, order='C')\n",
    "\"\"\"\n",
    "    array – La matriz a reformar, puede ser una matriz NumPy de cualquier forma o \n",
    "    una lista o lista de listas.\n",
    "    \n",
    "    newshape – La nueva forma debe ser compatible con la forma original, puede ser una \n",
    "    tupla o un int. Para convertir la forma de matrices 2D o 3D, debe pasar una tupla. \n",
    "    Para crear una matriz de forma 1D, se debe pasar un número entero.\n",
    "    \n",
    "    order – {'C', 'F', 'A'}, opcional para leer los elementos de a usando este orden de \n",
    "    índice. 'C' significa leer/escribir los elementos utilizando un orden de índice \n",
    "    similar a C. 'F': Leer elementos de la columna de la matriz, es decir, utilizando \n",
    "    un orden de índice similar a Fortran. 'A': Leer elementos de la matriz en función \n",
    "    del orden de memoria de los elementos.\n",
    "\"\"\"\n",
    "arr = np.arange(10)\n",
    "print(np.reshape(arr, (-1, 2)))\n",
    "arr = np.array([2, 4, 7, 9, 13, 16, 20, 24, 27, 29, 33, 35]) # Array\n",
    "arr2 = arr.reshape(4, 3) # de 1D a 2D\n",
    "print(arr2)\n",
    "arr2 = np.reshape(arr, (2, 2, 3)) # de 1D a 3D\n",
    "print(arr2)\n",
    "arr2 = np.reshape(arr, (2, 6), order='F')\n",
    "print(arr2)\n",
    "arr2 = np.reshape(arr, (4, 3), order = 'C')\n",
    "print(arr2)"
   ]
  },
  {
   "cell_type": "code",
   "execution_count": null,
   "metadata": {},
   "outputs": [],
   "source": [
    "# Cómo remodelar una matriz\n",
    "arr = np.arange(10)\n",
    "arr.reshape(2, -1)"
   ]
  },
  {
   "cell_type": "code",
   "execution_count": null,
   "metadata": {},
   "outputs": [],
   "source": [
    "# La función Python NumPy repeat()se usa para repetir los elementos individuales \n",
    "# de una matriz un número específico de veces.\n",
    "\n",
    "# numpy.repeat(arr, repeats, axis=None)\n",
    "\"\"\"\n",
    "    arr– Matriz de entrada.\n",
    "\n",
    "    repeats– Int o matriz de tipo int. Define el número de repeticiones para cada elemento. \n",
    "    las repeticiones se transmiten para adaptarse a la forma del eje dado.\n",
    "\n",
    "    axis– Qué valores se repiten junto con el eje especificado. De forma predeterminada, \n",
    "    toma la matriz de entrada aplanada y devuelve una matriz de salida aplanada. Puede ser 0 y 1.\n",
    "\n",
    "    Returns value – Matriz de salida que tiene la misma forma que arr, excepto a lo \n",
    "    largo del eje dado.\n",
    "\"\"\"\n",
    "arr = np.array([5,7,9,11,13,19])\n",
    "arr2 = np.repeat(arr, 2)\n",
    "print(arr2)\n",
    "\n",
    "arr = np.array([[15,28,57],[99,65,34],[37,55,88]])\n",
    "arr2 = np.repeat(arr, 2)\n",
    "print(arr2)"
   ]
  },
  {
   "cell_type": "code",
   "execution_count": null,
   "metadata": {},
   "outputs": [],
   "source": [
    "# Puede usar la función Python NumPy concatenate() para unir una secuencia de matrices \n",
    "# a lo largo de un eje (fila/columna). Esta función se utiliza para unir dos o más matrices \n",
    "# de la misma forma a lo largo de un eje específico.\n",
    "\n",
    "    #numpy.concatenate((arr, arr1, ...), axis=0, out=None)\n",
    "\"\"\"\n",
    "    arr,arr1: una secuencia de array_like. Las matrices deben tener la misma forma, \n",
    "    excepto en la dimensión correspondiente al eje (la primera, por defecto).\n",
    "    \n",
    "    axis: El eje a lo largo del cual se unirán las matrices. Si el eje es Ninguno, \n",
    "    las matrices se aplanan antes de su uso. El valor predeterminado es 0.\n",
    "    \n",
    "    out: Si se proporciona, el destino para colocar el resultado.\n",
    "    \n",
    "    Returns: La matriz concatenada.\n",
    "\"\"\"\n",
    "\n",
    "arr = np.array([[4, 6], [9, 13]])\n",
    "print(arr)\n",
    "arr1 = np.array([[8, 3], [12, 19]])\n",
    "print(arr1)\n",
    "\n",
    "print(\"*\"*20+\" SOLUCIÓN \"+\"*\"*20)\n",
    "con = np.concatenate((arr, arr1))\n",
    "print(con)\n",
    "\n",
    "#Use Unir las dos matrices a lo largo del eje = 1\n",
    "print(\"*\"*20+\" SOLUCIÓN \"+\"*\"*20)\n",
    "print(\"Use Unir las dos matrices a lo largo del eje = 1\")\n",
    "con = np.concatenate((arr, arr1), axis = 1)\n",
    "print(con)"
   ]
  },
  {
   "cell_type": "code",
   "execution_count": null,
   "metadata": {},
   "outputs": [],
   "source": [
    "# Cómo apilar dos matrices verticalmente\n",
    "a = np.arange(10).reshape(2,-1)\n",
    "print(a)\n",
    "b = np.repeat(8, 10).reshape(2,-1)\n",
    "print(b)\n",
    "print(\"*\"*20+\" SOLUCIÓN \"+\"*\"*20)\n",
    "print(\"*\"*5+\" A \"+\"*\"*5)\n",
    "print(np.concatenate([a, b], axis=0))\n",
    "print(\"*\"*5+\" B \"+\"*\"*5)\n",
    "print(np.vstack([a, b]))\n",
    "print(\"*\"*5+\" C \"+\"*\"*5)\n",
    "print(np.r_[a, b])\n"
   ]
  },
  {
   "cell_type": "code",
   "execution_count": null,
   "metadata": {},
   "outputs": [],
   "source": [
    "#Cómo apilar dos matrices horizontalmente\n",
    "a = np.arange(10).reshape(2,-1)\n",
    "print(a)\n",
    "b = np.repeat(8, 10).reshape(2,-1)\n",
    "print(b)\n",
    "print(\"*\"*20+\" SOLUCIÓN \"+\"*\"*20)\n",
    "print(\"*\"*5+\" A \"+\"*\"*5)\n",
    "print(np.concatenate([a, b], axis=1))"
   ]
  },
  {
   "cell_type": "code",
   "execution_count": null,
   "metadata": {},
   "outputs": [],
   "source": [
    "# La función NumPy tile()en Python se usa para construir una matriz repitiendo una matriz \n",
    "# de entrada dada por un número específico de veces dado por el repsparámetro. \n",
    "# La np.tile()función NumPy toma una matriz como entrada y crea una nueva matriz \n",
    "# repitiendo la matriz de entrada.\n",
    "\n",
    "    #numpy.tile(arr, reps)\n",
    "\"\"\"\n",
    "    arr:Este parámetro representa la matriz de entrada.\n",
    "    reps:El número de repeticiones de arr a lo largo de cada eje.\n",
    "\"\"\"\n",
    "arr = np.array([2, 5, 8])\n",
    "print(arr)\n",
    "\n",
    "arr2 = np.tile(arr, reps=8)\n",
    "print(\"*\"*20+\" SOLUCIÓN \"+\"*\"*20)\n",
    "print(arr2)\n",
    "\n",
    "arr2 = np.tile(arr, (4,3))\n",
    "print(\"*\"*20+\" SOLUCIÓN \"+\"*\"*20)\n",
    "print(arr2)\n",
    "\n",
    "#Use la función NumPy tile() para una matriz bidimensional\n",
    "arr = np.array([[2, 5, 8],[0, 4, 7]])\n",
    "repetitions = (3,2)\n",
    "arr2 = np.tile(arr, repetitions)\n",
    "print(\"*\"*20+\" SOLUCIÓN \"+\"*\"*20)\n",
    "print(arr)\n",
    "print(arr2)"
   ]
  },
  {
   "cell_type": "code",
   "execution_count": null,
   "metadata": {},
   "outputs": [],
   "source": [
    "#Cómo generar secuencias personalizadas en numpy sin codificación dura\n",
    "a = np.array([1,2,3])\n",
    "print(\"*\"*20+\" SOLUCIÓN \"+\"*\"*20)\n",
    "np.r_[np.repeat(a, 3), np.tile(a, 3)]"
   ]
  },
  {
   "cell_type": "code",
   "execution_count": null,
   "metadata": {},
   "outputs": [],
   "source": []
  },
  {
   "cell_type": "code",
   "execution_count": null,
   "metadata": {},
   "outputs": [],
   "source": [
    "# Cómo obtener los elementos comunes entre dos matrices de python numpy\n",
    "a = np.array([1,2,3,2,3,4,3,4,5,6])\n",
    "b = np.array([7,2,10,2,7,4,9,4,9,8])\n",
    "\n",
    "print(\"*\"*20+\" SOLUCIÓN \"+\"*\"*20)\n",
    "np.intersect1d(a,b)"
   ]
  },
  {
   "cell_type": "code",
   "execution_count": null,
   "metadata": {},
   "outputs": [],
   "source": [
    "# Cómo eliminar de una matriz los elementos que existen en otra\n",
    "a = np.array([1,2,3,4,5])\n",
    "b = np.array([5,6,7,8,9])\n",
    "\n",
    "print(\"*\"*20+\" SOLUCIÓN \"+\"*\"*20)\n",
    "np.setdiff1d(a,b)"
   ]
  },
  {
   "cell_type": "code",
   "execution_count": null,
   "metadata": {},
   "outputs": [],
   "source": [
    "# Cómo obtener las posiciones donde coinciden los elementos de dos matrices\n",
    "a = np.array([1,2,3,2,3,4,3,4,5,6,8])\n",
    "b = np.array([7,2,10,2,7,4,9,4,9,8,8])\n",
    "\n",
    "print(\"*\"*20+\" SOLUCIÓN \"+\"*\"*20)\n",
    "np.where(a == b)"
   ]
  },
  {
   "cell_type": "code",
   "execution_count": null,
   "metadata": {},
   "outputs": [],
   "source": [
    "# Cómo extraer todos los números entre un rango dado de una matriz numpy\n",
    "a = np.array([2, 6, 1, 9, 10, 3, 27])\n",
    "\n",
    "print(\"*\"*20+\" SOLUCIÓN \"+\"*\"*20)\n",
    "index = np.where((a >= 5) & (a <= 10))\n",
    "print(a[index])\n",
    "index = np.where(np.logical_and(a>=5, a<=10))\n",
    "print(a[index])\n",
    "print(a[(a >= 5) & (a <= 10)])"
   ]
  },
  {
   "cell_type": "code",
   "execution_count": null,
   "metadata": {},
   "outputs": [],
   "source": [
    "# Cómo hacer una función de python que maneja escalares para trabajar en matrices numpy\n",
    "def maxx(x, y):\n",
    "    \"\"\"Get the maximum of two items\"\"\"\n",
    "    if x >= y:\n",
    "        return x\n",
    "    else:\n",
    "        return y\n",
    "\n",
    "pair_max = np.vectorize(maxx, otypes=[float])\n",
    "\n",
    "a = np.array([5, 7, 9, 8, 6, 4, 5])\n",
    "b = np.array([6, 3, 4, 8, 9, 7, 1])\n",
    "\n",
    "pair_max(a, b)"
   ]
  },
  {
   "cell_type": "code",
   "execution_count": null,
   "metadata": {},
   "outputs": [],
   "source": [
    "# Cómo intercambiar dos columnas en una matriz 2d numpy\n",
    "arr = np.arange(9).reshape(3,3)\n",
    "print(arr)\n",
    "\n",
    "print(\"*\"*20+\" SOLUCIÓN \"+\"*\"*20)\n",
    "arr[:, [2,0,1]]"
   ]
  },
  {
   "cell_type": "code",
   "execution_count": null,
   "metadata": {},
   "outputs": [],
   "source": [
    "# Cómo intercambiar dos filas en una matriz 2d numpy\n",
    "arr = np.arange(9).reshape(3,3)\n",
    "print(arr)\n",
    "\n",
    "print(\"*\"*20+\" SOLUCIÓN \"+\"*\"*20)\n",
    "arr[[1,0,2], :]"
   ]
  },
  {
   "cell_type": "code",
   "execution_count": null,
   "metadata": {},
   "outputs": [],
   "source": [
    "# Cómo invertir las filas de una matriz 2D\n",
    "arr = np.arange(9).reshape(3,3)\n",
    "print(arr)\n",
    "\n",
    "print(\"*\"*20+\" SOLUCIÓN \"+\"*\"*20)\n",
    "arr[::-1]"
   ]
  },
  {
   "cell_type": "code",
   "execution_count": null,
   "metadata": {},
   "outputs": [],
   "source": [
    "# Cómo invertir las columnas de una matriz 2D\n",
    "arr = np.arange(9).reshape(3,3)\n",
    "print(arr)\n",
    "\n",
    "print(\"*\"*20+\" SOLUCIÓN \"+\"*\"*20)\n",
    "arr[:, ::-1]"
   ]
  },
  {
   "cell_type": "code",
   "execution_count": null,
   "metadata": {},
   "outputs": [],
   "source": [
    "# La función NumPy random.randint() en Python se usa para devolver enteros aleatorios \n",
    "# de los valores especificados con parámetro bajo  (inclusivo) a  alto  (exclusivo). \n",
    "# Crea una matriz de una forma dada y la llena con números enteros aleatorios desde \n",
    "# bajo (inclusivo) hasta alto (exclusivo).\n",
    "\n",
    "    # random.randint(low, high=None, size=None, dtype=int)\n",
    "\"\"\"\n",
    "    low– Números enteros (con signo) más bajos, obtener de la distribución. \n",
    "    Todos los números generados usando randint() son mayores o iguales a low.\n",
    "    \n",
    "    high– Los enteros más grandes (con signo), se obtienen de la distribución. \n",
    "    Es el límite superior. Todos los números generados a partir de randint()son \n",
    "    menores que high.\n",
    "    \n",
    "    size– Número entero o tupla de números enteros. Usando esto para especificar el \n",
    "    tamaño o la dimensión de la matriz. Por ejemplo, size=(3,4)llena una matriz de \n",
    "    tres filas y cuatro columnas con números enteros.\n",
    "    \n",
    "    dtype– Tipo de resultado deseado.\n",
    "\"\"\"\n",
    "arr = np.random.randint(low=1, high=6, size = 8)\n",
    "print(\"*\"*20+\" SOLUCIÓN \"+\"*\"*20)\n",
    "print(arr)\n",
    "print(\"\\n\")\n",
    "\n",
    "# Genere una matriz 2-D de enteros aleatorios\n",
    "arr = np.random.randint(low=1, high=9, size=(2, 4))\n",
    "print(\"*\"*20+\" SOLUCIÓN \"+\"*\"*20)\n",
    "print(arr)\n",
    "print(\"\\n\")\n",
    "\n",
    "# Genere una matriz 2-D de enteros aleatorios\n",
    "arr = np.random.randint(low=3, high=8, size=(2, 3, 4))\n",
    "print(\"*\"*20+\" SOLUCIÓN \"+\"*\"*20)\n",
    "print(arr)"
   ]
  },
  {
   "cell_type": "code",
   "execution_count": null,
   "metadata": {},
   "outputs": [],
   "source": [
    "# Cómo crear una matriz 2D que contenga flotadores aleatorios entre 5 y 10\n",
    "arr = np.arange(9).reshape(3,3)\n",
    "print(arr)\n",
    "\n",
    "print(\"*\"*20+\" SOLUCIÓN \"+\"*\"*20)\n",
    "rand_arr = np.random.randint(low=5, high=10, size=(5,3)) + np.random.random((5,3))\n",
    "print(rand_arr)"
   ]
  },
  {
   "cell_type": "code",
   "execution_count": null,
   "metadata": {},
   "outputs": [],
   "source": [
    "# Cómo imprimir solo 2 decimales en la matriz python numpy\n",
    "rand_arr = np.random.random((5,4))\n",
    "print(rand_arr)\n",
    "\n",
    "print(\"*\"*20+\" SOLUCIÓN \"+\"*\"*20)\n",
    "np.set_printoptions(precision=2)\n",
    "rand_arr[:4]"
   ]
  },
  {
   "cell_type": "code",
   "execution_count": null,
   "metadata": {},
   "outputs": [],
   "source": [
    "# Cómo imprimir bonitas una matriz numpy suprimiendo la notación científica ( como 1e10\n",
    "np.set_printoptions(suppress=False)\n",
    "\n",
    "np.random.seed(100)\n",
    "rand_arr = np.random.random([3,3])/1e3\n",
    "print(rand_arr)\n",
    "\n",
    "print(\"*\"*20+\" SOLUCIÓN \"+\"*\"*20)\n",
    "np.set_printoptions(suppress=True, precision=6)\n",
    "print(rand_arr)"
   ]
  },
  {
   "cell_type": "code",
   "execution_count": 75,
   "metadata": {},
   "outputs": [
    {
     "name": "stdout",
     "output_type": "stream",
     "text": [
      "[ 0  1  2 ... 22 23 24]\n"
     ]
    }
   ],
   "source": [
    "# Cómo limitar el número de artículos impresos en la salida de la matriz numpy\n",
    "np.set_printoptions(threshold=6)\n",
    "a = np.arange(25)\n",
    "print(a)"
   ]
  },
  {
   "cell_type": "code",
   "execution_count": 79,
   "metadata": {},
   "outputs": [
    {
     "name": "stdout",
     "output_type": "stream",
     "text": [
      "(150, 5)\n"
     ]
    },
    {
     "data": {
      "text/plain": [
       "array([[b'5.1', b'3.5', b'1.4', b'0.2', b'Iris-setosa'],\n",
       "       [b'4.9', b'3.0', b'1.4', b'0.2', b'Iris-setosa'],\n",
       "       [b'4.7', b'3.2', b'1.3', b'0.2', b'Iris-setosa'],\n",
       "       [b'4.6', b'3.1', b'1.5', b'0.2', b'Iris-setosa']], dtype=object)"
      ]
     },
     "execution_count": 79,
     "metadata": {},
     "output_type": "execute_result"
    }
   ],
   "source": [
    "# Cómo importar un conjunto de datos con números y textos que mantienen el texto intacto en python numpy\n",
    "url = 'https://archive.ics.uci.edu/ml/machine-learning-databases/iris/iris.data'\n",
    "iris = np.genfromtxt(url, delimiter=',', dtype='object')\n",
    "names = ('sepallength', 'sepalwidth', 'petallength', 'petalwidth', 'species')\n",
    "print(iris.shape)\n",
    "\n",
    "iris[:4]"
   ]
  },
  {
   "cell_type": "code",
   "execution_count": 85,
   "metadata": {},
   "outputs": [
    {
     "name": "stdout",
     "output_type": "stream",
     "text": [
      "(150, 5)\n"
     ]
    },
    {
     "data": {
      "text/plain": [
       "array([b'Iris-setosa', b'Iris-setosa', b'Iris-setosa', b'Iris-setosa',\n",
       "       b'Iris-setosa'], dtype='|S15')"
      ]
     },
     "execution_count": 85,
     "metadata": {},
     "output_type": "execute_result"
    }
   ],
   "source": [
    "# Cómo extraer una columna en particular de una matriz 1D de tuplas\n",
    "url = 'https://archive.ics.uci.edu/ml/machine-learning-databases/iris/iris.data'\n",
    "iris_1d = np.genfromtxt(url, delimiter=',', dtype=object)\n",
    "print(iris_1d.shape)\n",
    "\n",
    "species = np.array([row[4] for row in iris_1d])\n",
    "species[:5]"
   ]
  },
  {
   "cell_type": "code",
   "execution_count": 88,
   "metadata": {},
   "outputs": [
    {
     "name": "stdout",
     "output_type": "stream",
     "text": [
      "[[b'5.1' b'3.5' b'1.4' b'0.2']\n",
      " [b'4.9' b'3.0' b'1.4' b'0.2']\n",
      " [b'4.7' b'3.2' b'1.3' b'0.2']\n",
      " [b'4.6' b'3.1' b'1.5' b'0.2']]\n"
     ]
    },
    {
     "data": {
      "text/plain": [
       "array([[5.1, 3.5, 1.4, 0.2],\n",
       "       [4.9, 3. , 1.4, 0.2],\n",
       "       [4.7, 3.2, 1.3, 0.2],\n",
       "       [4.6, 3.1, 1.5, 0.2]])"
      ]
     },
     "execution_count": 88,
     "metadata": {},
     "output_type": "execute_result"
    }
   ],
   "source": [
    "# Cómo convertir una matriz 1d de tuplas a una matriz 2d numpy\n",
    "url = 'https://archive.ics.uci.edu/ml/machine-learning-databases/iris/iris.data'\n",
    "iris_1d = np.genfromtxt(url, delimiter=',', dtype=object)\n",
    "\n",
    "iris_2d = np.array([row.tolist()[:4] for row in iris_1d])\n",
    "print(iris_2d[:4])\n",
    "\n",
    "iris_2d = np.genfromtxt(url, delimiter=',', dtype='float', usecols=[0,1,2,3])\n",
    "iris_2d[:4]"
   ]
  },
  {
   "cell_type": "code",
   "execution_count": 89,
   "metadata": {},
   "outputs": [
    {
     "name": "stdout",
     "output_type": "stream",
     "text": [
      "5.843333333333334 5.8 0.8253012917851409\n"
     ]
    }
   ],
   "source": [
    "# Cómo calcular la media, mediana, desviación estándar de una matriz numpy\n",
    "url = 'https://archive.ics.uci.edu/ml/machine-learning-databases/iris/iris.data'\n",
    "iris = np.genfromtxt(url, delimiter=',', dtype='object')\n",
    "sepallength = np.genfromtxt(url, delimiter=',', dtype='float', usecols=[0])\n",
    "\n",
    "mu, med, sd = np.mean(sepallength), np.median(sepallength), np.std(sepallength)\n",
    "print(mu, med, sd)"
   ]
  },
  {
   "cell_type": "code",
   "execution_count": 90,
   "metadata": {},
   "outputs": [
    {
     "name": "stdout",
     "output_type": "stream",
     "text": [
      "[0.222222 0.166667 0.111111 ... 0.611111 0.527778 0.444444]\n"
     ]
    }
   ],
   "source": [
    "# Cómo normalizar una matriz para que los valores oscilen exactamente entre 0 y 1\n",
    "url = 'https://archive.ics.uci.edu/ml/machine-learning-databases/iris/iris.data'\n",
    "sepallength = np.genfromtxt(url, delimiter=',', dtype='float', usecols=[0])\n",
    "\n",
    "Smax, Smin = sepallength.max(), sepallength.min()\n",
    "S = (sepallength - Smin)/(Smax - Smin)\n",
    "\n",
    "S = (sepallength - Smin)/sepallength.ptp()\n",
    "print(S)"
   ]
  },
  {
   "cell_type": "code",
   "execution_count": 97,
   "metadata": {},
   "outputs": [
    {
     "name": "stdout",
     "output_type": "stream",
     "text": [
      "[5.1 4.9 4.7 ... 6.5 6.2 5.9]\n",
      "[0.06081  0.049787 0.040762 ... 0.246597 0.182684 0.135335]\n",
      "[0.00222  0.001817 0.001488 ... 0.009001 0.006668 0.00494 ]\n"
     ]
    }
   ],
   "source": [
    "# Cómo calcular la puntuación softmax\n",
    "url = 'https://archive.ics.uci.edu/ml/machine-learning-databases/iris/iris.data'\n",
    "iris = np.genfromtxt(url, delimiter=',', dtype='object')\n",
    "sepallength = np.array([float(row[0]) for row in iris])\n",
    "print(sepallength)\n",
    "\n",
    "def softmax(x):\n",
    "    e_x = np.exp(x - np.max(x))\n",
    "    return e_x / e_x.sum(axis=0)\n",
    "\n",
    "print(softmax(sepallength))"
   ]
  },
  {
   "cell_type": "code",
   "execution_count": 102,
   "metadata": {},
   "outputs": [
    {
     "name": "stdout",
     "output_type": "stream",
     "text": [
      "******************** SOLUCIÓN ********************\n",
      "4.5\n",
      "******************** SOLUCIÓN ********************\n",
      "7.25\n",
      "******************** SOLUCIÓN ********************\n",
      "6.5\n",
      "[8.25 7.25 6.25]\n",
      "[7. 8.]\n"
     ]
    }
   ],
   "source": [
    "#La función NumPy percentile()en Python se usa para calcular el percentil n de los \n",
    "# elementos de la matriz a lo largo del eje especificado. Básicamente usamos el \n",
    "# percentil en las estadísticas, lo que le da un número que describe el valor que\n",
    "# un porcentaje dado de los valores es menor que.\n",
    "\n",
    "    #numpy.percentile(arr, percentile, axis=None, out=None, overwrite_input=False, keepdims=False)\n",
    "\"\"\"\n",
    "    arr -array_like, esta es la matriz u objeto de entrada que se puede convertir en una matriz.\n",
    "    \n",
    "    percentile– array_like de float Percentil o secuencia de percentiles a calcular, \n",
    "    que debe estar entre 0 y 100 inclusive.\n",
    "    \n",
    "    axis– Eje o ejes a lo largo de los cuales se calcula el percentil.\n",
    "    De forma predeterminada, se utiliza una matriz aplanada. axis = 0 \n",
    "    significa a lo largo de la columna y axis = 1 significa trabajar a \n",
    "    lo largo de la fila.\n",
    "    \n",
    "    out – Una matriz de salida alternativa donde puede colocar el resultado.\n",
    "    \n",
    "    overwrite_input– Si el valor booleano es True, puede modificar la matriz\n",
    "    de entrada mediante cálculos intermedios para ahorrar memoria.\n",
    "    \n",
    "    keepdims– El valor se establece en True, crea ejes reducidos con dimensiones\n",
    "    de un tamaño.\n",
    "\"\"\"\n",
    "arr = np.array([2, 3, 5, 8, 9,4])\n",
    "\n",
    "print(\"*\"*20+\" SOLUCIÓN \"+\"*\"*20)\n",
    "arr2 = np.percentile(arr, 50)\n",
    "print(arr2)\n",
    "\n",
    "print(\"*\"*20+\" SOLUCIÓN \"+\"*\"*20)\n",
    "arr2 = np.percentile(arr, 75)\n",
    "print(arr2)\n",
    "\n",
    "print(\"*\"*20+\" SOLUCIÓN \"+\"*\"*20)\n",
    "arr = np.array([[6, 8, 4],[ 9, 5, 7]])\n",
    "arr2 = np.percentile(arr, 50)\n",
    "print(arr2)\n",
    "\n",
    "# Obtenga el percentil a lo largo del eje\n",
    "arr2 = np.percentile(arr, 75, axis=0)\n",
    "print(arr2)\n",
    "arr2 = np.percentile(arr, 75, axis=1)\n",
    "print(arr2)"
   ]
  },
  {
   "cell_type": "code",
   "execution_count": 98,
   "metadata": {},
   "outputs": [
    {
     "data": {
      "text/plain": [
       "array([4.6  , 7.255])"
      ]
     },
     "execution_count": 98,
     "metadata": {},
     "output_type": "execute_result"
    }
   ],
   "source": [
    "# Cómo encontrar los puntajes de percentil de una matriz numpy\n",
    "url = 'https://archive.ics.uci.edu/ml/machine-learning-databases/iris/iris.data'\n",
    "sepallength = np.genfromtxt(url, delimiter=',', dtype='float', usecols=[0])\n",
    "\n",
    "np.percentile(sepallength, q=[5, 95])"
   ]
  }
 ],
 "metadata": {
  "kernelspec": {
   "display_name": "Python 3 (ipykernel)",
   "language": "python",
   "name": "python3"
  },
  "language_info": {
   "codemirror_mode": {
    "name": "ipython",
    "version": 3
   },
   "file_extension": ".py",
   "mimetype": "text/x-python",
   "name": "python",
   "nbconvert_exporter": "python",
   "pygments_lexer": "ipython3",
   "version": "3.10.12"
  }
 },
 "nbformat": 4,
 "nbformat_minor": 4
}
